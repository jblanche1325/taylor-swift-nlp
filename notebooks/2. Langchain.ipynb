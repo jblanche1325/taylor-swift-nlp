{
 "cells": [
  {
   "cell_type": "code",
   "execution_count": 2,
   "metadata": {},
   "outputs": [
    {
     "data": {
      "text/plain": [
       "True"
      ]
     },
     "execution_count": 2,
     "metadata": {},
     "output_type": "execute_result"
    }
   ],
   "source": [
    "import os\n",
    "from dotenv import load_dotenv\n",
    "\n",
    "from langchain import PromptTemplate, HuggingFaceHub, FewShotPromptTemplate\n",
    "from langchain.chains import LLMChain\n",
    "from langchain.schema import HumanMessage\n",
    "from langchain.chat_models import ChatOpenAI\n",
    "\n",
    "import pandas as pd\n",
    "\n",
    "load_dotenv()"
   ]
  },
  {
   "cell_type": "code",
   "execution_count": 3,
   "metadata": {},
   "outputs": [],
   "source": [
    "os.environ['HUGGINGFACEHUB_API_TOKEN'] = os.getenv('HUGGINGFACEHUB_API_TOKEN')"
   ]
  },
  {
   "cell_type": "code",
   "execution_count": 4,
   "metadata": {},
   "outputs": [],
   "source": [
    "ts_df = pd.read_csv('../data/raw/taylor_swift_raw.csv')"
   ]
  },
  {
   "cell_type": "code",
   "execution_count": 5,
   "metadata": {},
   "outputs": [
    {
     "data": {
      "text/html": [
       "<div>\n",
       "<style scoped>\n",
       "    .dataframe tbody tr th:only-of-type {\n",
       "        vertical-align: middle;\n",
       "    }\n",
       "\n",
       "    .dataframe tbody tr th {\n",
       "        vertical-align: top;\n",
       "    }\n",
       "\n",
       "    .dataframe thead th {\n",
       "        text-align: right;\n",
       "    }\n",
       "</style>\n",
       "<table border=\"1\" class=\"dataframe\">\n",
       "  <thead>\n",
       "    <tr style=\"text-align: right;\">\n",
       "      <th></th>\n",
       "      <th>name</th>\n",
       "      <th>album</th>\n",
       "      <th>dance</th>\n",
       "      <th>acoustic</th>\n",
       "      <th>energy</th>\n",
       "      <th>instrumental</th>\n",
       "      <th>liveness</th>\n",
       "      <th>loudness</th>\n",
       "      <th>speech</th>\n",
       "      <th>tempo</th>\n",
       "      <th>valence</th>\n",
       "      <th>popularity</th>\n",
       "      <th>lyrics</th>\n",
       "    </tr>\n",
       "  </thead>\n",
       "  <tbody>\n",
       "    <tr>\n",
       "      <th>0</th>\n",
       "      <td>Welcome To New York (Taylor's Version)</td>\n",
       "      <td>1989 (Taylor's Version) [Deluxe]</td>\n",
       "      <td>0.757</td>\n",
       "      <td>0.009420</td>\n",
       "      <td>0.610</td>\n",
       "      <td>0.000037</td>\n",
       "      <td>0.3670</td>\n",
       "      <td>-4.840</td>\n",
       "      <td>0.0327</td>\n",
       "      <td>116.998</td>\n",
       "      <td>0.685</td>\n",
       "      <td>73</td>\n",
       "      <td>[Verse 1]Walkin' through a crowd, the village ...</td>\n",
       "    </tr>\n",
       "    <tr>\n",
       "      <th>1</th>\n",
       "      <td>Blank Space (Taylor's Version)</td>\n",
       "      <td>1989 (Taylor's Version) [Deluxe]</td>\n",
       "      <td>0.733</td>\n",
       "      <td>0.088500</td>\n",
       "      <td>0.733</td>\n",
       "      <td>0.000000</td>\n",
       "      <td>0.1680</td>\n",
       "      <td>-5.376</td>\n",
       "      <td>0.0670</td>\n",
       "      <td>96.057</td>\n",
       "      <td>0.701</td>\n",
       "      <td>74</td>\n",
       "      <td>[Verse 1]Nice to meet you, where you been?I co...</td>\n",
       "    </tr>\n",
       "    <tr>\n",
       "      <th>2</th>\n",
       "      <td>Style (Taylor's Version)</td>\n",
       "      <td>1989 (Taylor's Version) [Deluxe]</td>\n",
       "      <td>0.511</td>\n",
       "      <td>0.000421</td>\n",
       "      <td>0.822</td>\n",
       "      <td>0.019700</td>\n",
       "      <td>0.0899</td>\n",
       "      <td>-4.785</td>\n",
       "      <td>0.0397</td>\n",
       "      <td>94.868</td>\n",
       "      <td>0.305</td>\n",
       "      <td>75</td>\n",
       "      <td>[Verse 1]MidnightYou come and pick me up, no h...</td>\n",
       "    </tr>\n",
       "    <tr>\n",
       "      <th>3</th>\n",
       "      <td>Out Of The Woods (Taylor's Version)</td>\n",
       "      <td>1989 (Taylor's Version) [Deluxe]</td>\n",
       "      <td>0.545</td>\n",
       "      <td>0.000537</td>\n",
       "      <td>0.885</td>\n",
       "      <td>0.000056</td>\n",
       "      <td>0.3850</td>\n",
       "      <td>-5.968</td>\n",
       "      <td>0.0447</td>\n",
       "      <td>92.021</td>\n",
       "      <td>0.206</td>\n",
       "      <td>74</td>\n",
       "      <td>[Verse 1]Looking at it nowIt all seems so simp...</td>\n",
       "    </tr>\n",
       "    <tr>\n",
       "      <th>4</th>\n",
       "      <td>All You Had To Do Was Stay (Taylor's Version)</td>\n",
       "      <td>1989 (Taylor's Version) [Deluxe]</td>\n",
       "      <td>0.588</td>\n",
       "      <td>0.000656</td>\n",
       "      <td>0.721</td>\n",
       "      <td>0.000000</td>\n",
       "      <td>0.1310</td>\n",
       "      <td>-5.579</td>\n",
       "      <td>0.0317</td>\n",
       "      <td>96.997</td>\n",
       "      <td>0.520</td>\n",
       "      <td>72</td>\n",
       "      <td>[Intro](Hey, hey, hey)(Hey, hey, hey)(Hey, hey...</td>\n",
       "    </tr>\n",
       "  </tbody>\n",
       "</table>\n",
       "</div>"
      ],
      "text/plain": [
       "                                            name  \\\n",
       "0         Welcome To New York (Taylor's Version)   \n",
       "1                 Blank Space (Taylor's Version)   \n",
       "2                       Style (Taylor's Version)   \n",
       "3            Out Of The Woods (Taylor's Version)   \n",
       "4  All You Had To Do Was Stay (Taylor's Version)   \n",
       "\n",
       "                              album  dance  acoustic  energy  instrumental  \\\n",
       "0  1989 (Taylor's Version) [Deluxe]  0.757  0.009420   0.610      0.000037   \n",
       "1  1989 (Taylor's Version) [Deluxe]  0.733  0.088500   0.733      0.000000   \n",
       "2  1989 (Taylor's Version) [Deluxe]  0.511  0.000421   0.822      0.019700   \n",
       "3  1989 (Taylor's Version) [Deluxe]  0.545  0.000537   0.885      0.000056   \n",
       "4  1989 (Taylor's Version) [Deluxe]  0.588  0.000656   0.721      0.000000   \n",
       "\n",
       "   liveness  loudness  speech    tempo  valence  popularity  \\\n",
       "0    0.3670    -4.840  0.0327  116.998    0.685          73   \n",
       "1    0.1680    -5.376  0.0670   96.057    0.701          74   \n",
       "2    0.0899    -4.785  0.0397   94.868    0.305          75   \n",
       "3    0.3850    -5.968  0.0447   92.021    0.206          74   \n",
       "4    0.1310    -5.579  0.0317   96.997    0.520          72   \n",
       "\n",
       "                                              lyrics  \n",
       "0  [Verse 1]Walkin' through a crowd, the village ...  \n",
       "1  [Verse 1]Nice to meet you, where you been?I co...  \n",
       "2  [Verse 1]MidnightYou come and pick me up, no h...  \n",
       "3  [Verse 1]Looking at it nowIt all seems so simp...  \n",
       "4  [Intro](Hey, hey, hey)(Hey, hey, hey)(Hey, hey...  "
      ]
     },
     "execution_count": 5,
     "metadata": {},
     "output_type": "execute_result"
    }
   ],
   "source": [
    "ts_df.head()"
   ]
  },
  {
   "cell_type": "code",
   "execution_count": 40,
   "metadata": {},
   "outputs": [],
   "source": [
    "template = \"\"\"\n",
    "You are a program that determines if a song is happy or sad based off of the lyrics\n",
    "\n",
    "Here's a song to classify:\n",
    "\n",
    "====================\n",
    "Title: {song_title}\n",
    "Lyrics: {song_lyrics}\n",
    "====================\n",
    "\n",
    "Determine if the song is happy or sad.\n",
    "\"\"\""
   ]
  },
  {
   "cell_type": "code",
   "execution_count": 41,
   "metadata": {},
   "outputs": [
    {
     "name": "stderr",
     "output_type": "stream",
     "text": [
      "c:\\Users\\jblanche\\Python Projects\\Personal\\taylor-swift-nlp\\env\\lib\\site-packages\\huggingface_hub\\utils\\_deprecation.py:131: FutureWarning: 'InferenceApi' (from 'huggingface_hub.inference_api') is deprecated and will be removed from version '1.0'. `InferenceApi` client is deprecated in favor of the more feature-complete `InferenceClient`. Check out this guide to learn how to convert your script to use it: https://huggingface.co/docs/huggingface_hub/guides/inference#legacy-inferenceapi-client.\n",
      "  warnings.warn(warning_message, FutureWarning)\n"
     ]
    }
   ],
   "source": [
    "llm = HuggingFaceHub(repo_id=\"facebook/bart-large-cnn\")"
   ]
  },
  {
   "cell_type": "code",
   "execution_count": 42,
   "metadata": {},
   "outputs": [
    {
     "data": {
      "text/plain": [
       "'\\nYou are a program that determines if a song is happy or sad based off of the lyrics\\n\\nHere\\'s a song to classify:\\n\\n====================\\nTitle: Welcome To New York (Taylor\\'s Version)\\nLyrics: [Verse 1]Walkin\\' through a crowd, the village is aglowKaleidoscope of loud heartbeats under coatsEverybody here wanted somethin\\' moreSearchin\\' for a sound we hadn\\'t heard beforeAnd it said[Chorus]\"Welcome to New York, it\\'s been waitin\\' for you\"Welcome to New York, welcome to New YorkWelcome to New York, it\\'s been waitin\\' for youWelcome to New York, welcome to New YorkIt\\'s a new soundtrack, I could dance to this beat, beat forevermorеThe lights are so bright, but they nеver blind me, meWelcome to New York, it\\'s been waitin\\' for youWelcome to New York, welcome to New York[Verse 2]When we first dropped our bags on apartment floorsTook our broken hearts, put them in a drawerEverybody here was someone else beforeAnd you can want who you wantBoys and boys and girls and girls[Chorus]Welcome to New York, it\\'s been waitin\\' for youWelcome to New York, welcome to New YorkWelcome to New York, it\\'s been waitin\\' for youWelcome to New York, welcome to New YorkIt\\'s a new soundtrack, I could dance to this beat, beat forevermoreThe lights are so bright, but they never blind me, meWelcome to New York (New York), it\\'s been waitin\\' for youWelcome to New York, welcome to New York\\n====================\\n\\nDetermine if the song is happy or sad.\\n'"
      ]
     },
     "execution_count": 42,
     "metadata": {},
     "output_type": "execute_result"
    }
   ],
   "source": [
    "prompt = PromptTemplate(\n",
    "    input_variables=['song_title', 'song_lyrics'],\n",
    "    template=template,\n",
    ")\n",
    "prompt.format(song_title=ts_df['name'][0], song_lyrics=ts_df['lyrics'][0])"
   ]
  },
  {
   "cell_type": "code",
   "execution_count": 43,
   "metadata": {},
   "outputs": [],
   "source": [
    "chain = LLMChain(llm=llm, prompt=prompt)"
   ]
  },
  {
   "cell_type": "code",
   "execution_count": 44,
   "metadata": {},
   "outputs": [
    {
     "data": {
      "text/plain": [
       "\"You are a program that determines if a song is happy or sad based off of the lyrics. Here's a song to classify: Shake It Off (Taylor's Version)Lyrics: [Verse 1]I stay out too lateGot nothin' in my brainThat's what people say, mm-mm.\""
      ]
     },
     "execution_count": 44,
     "metadata": {},
     "output_type": "execute_result"
    }
   ],
   "source": [
    "chain.run(song_title=ts_df['name'][5], song_lyrics=ts_df['lyrics'][5])"
   ]
  },
  {
   "cell_type": "code",
   "execution_count": 36,
   "metadata": {},
   "outputs": [
    {
     "data": {
      "text/plain": [
       "'[Verse 1]I stay out too lateGot nothin\\' in my brainThat\\'s what people say, mm-mmThat\\'s what people say, mm-mmI go on too many dates (Haha)But I can\\'t make them stayAt least, that\\'s what people say, mm-mmThat\\'s what people say, mm-mm[Pre-Chorus]But I keep cruisin\\'Can\\'t stop, won\\'t stop movin\\'It\\'s like I got this music in my mindSayin\\', \"It\\'s gonna be alright\"[Chorus]\\'Cause the players gonna play, play, play, play, playAnd the haters gonna hate, hate, hate, hate, hateBaby, I\\'m just gonna shake, shake, shake, shake, shakeShake it off, I shake it off (Ooh)Heartbreakers gonna break, break, break, break, breakAnd the fakers gonna fake, fake, fake, fake, fakeBaby, I\\'m just gonna shake, shake, shake, shake, shakeI shake it off, I shake it off (Ooh)'"
      ]
     },
     "execution_count": 36,
     "metadata": {},
     "output_type": "execute_result"
    }
   ],
   "source": [
    "ts_df['lyrics'][5]"
   ]
  },
  {
   "cell_type": "code",
   "execution_count": null,
   "metadata": {},
   "outputs": [],
   "source": []
  },
  {
   "cell_type": "code",
   "execution_count": null,
   "metadata": {},
   "outputs": [],
   "source": []
  },
  {
   "cell_type": "code",
   "execution_count": 45,
   "metadata": {},
   "outputs": [],
   "source": [
    "from transformers import pipeline"
   ]
  },
  {
   "cell_type": "code",
   "execution_count": 46,
   "metadata": {},
   "outputs": [],
   "source": [
    "summarizer = pipeline(\"summarization\", model=\"facebook/bart-large-cnn\")"
   ]
  },
  {
   "cell_type": "code",
   "execution_count": 48,
   "metadata": {},
   "outputs": [
    {
     "name": "stderr",
     "output_type": "stream",
     "text": [
      "Your max_length is set to 500, but your input_length is only 229. Since this is a summarization task, where outputs shorter than the input are typically wanted, you might consider decreasing max_length manually, e.g. summarizer('...', max_length=114)\n"
     ]
    },
    {
     "name": "stdout",
     "output_type": "stream",
     "text": [
      "[{'summary_text': '\"I stay out too lateGot nothin\\' in my brain\" \"I keep cruisin\\'Can\\'t stop, won\\'t stop movin\\'\"It\\'s like I got this music in my mind\" \"It\\'s gonna be alright\" \"Baby, I\\'m just gonna shake, shake, shaking, shake\" \"Shake it off, I shake it off (Ooh) \"I go on too many dates (Haha)But I can\\'t make them stay\" \"Heartbreakers gonna break\" \"And the haters gonna hate\"'}]\n"
     ]
    }
   ],
   "source": [
    "print(summarizer(ts_df['lyrics'][5], max_length=500, min_length=100, do_sample=False))"
   ]
  }
 ],
 "metadata": {
  "kernelspec": {
   "display_name": "Python 3",
   "language": "python",
   "name": "python3"
  },
  "language_info": {
   "codemirror_mode": {
    "name": "ipython",
    "version": 3
   },
   "file_extension": ".py",
   "mimetype": "text/x-python",
   "name": "python",
   "nbconvert_exporter": "python",
   "pygments_lexer": "ipython3",
   "version": "3.9.0"
  }
 },
 "nbformat": 4,
 "nbformat_minor": 2
}
